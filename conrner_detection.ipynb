{
 "cells": [
  {
   "cell_type": "code",
   "execution_count": 5,
   "metadata": {},
   "outputs": [],
   "source": [
    "import cv2\n",
    "import numpy as np"
   ]
  },
  {
   "cell_type": "code",
   "execution_count": 6,
   "metadata": {},
   "outputs": [],
   "source": [
    "def convolve(img, kernel):\n",
    "    s= img.shape\n",
    "    kernel_shape = kernel.shape\n",
    "    new_image = np.zeros((s[0]-kernel_shape[0]+1,s[1]-kernel_shape[1]+1))\n",
    "    for i in range(s[0]-kernel_shape[0]+1):\n",
    "        for j in range(s[1]-kernel_shape[1]+1):\n",
    "            part_image = img[i:i+kernel_shape[0], j:j+kernel_shape[1]]\n",
    "            output = part_image*kernel\n",
    "            new_image[i,j] = np.sum(output)\n",
    "    return new_image\n"
   ]
  },
  {
   "cell_type": "code",
   "execution_count": 7,
   "metadata": {},
   "outputs": [],
   "source": [
    "#### Find R Score using sobel Value\n",
    "def find_R_value(img):\n",
    "    kernel_x = np.array([[1,0,-1],[2,0,-2],[1,0,-1]])\n",
    "    kernel_x = kernel_x/8\n",
    "\n",
    "    kernel_y = np.array([[1,2,1],[0,0,0],[-1,-2,-1]])\n",
    "    kernel_y = kernel_y/8\n",
    "\n",
    "    Sx = convolve(img, kernel_x)\n",
    "    Sy = convolve(img, kernel_y)\n",
    "    Sxx = convolve(Sx, kernel_x)\n",
    "    Sxy = convolve(Sx, kernel_y)\n",
    "    Syy = convolve(Sy, kernel_y)\n",
    "\n",
    "    temp1 = Sxx*Syy\n",
    "    temp2 = Sxy*Sxy\n",
    "    det = temp1-temp2\n",
    "    trace = Sxx+Syy\n",
    "    trace_square = trace**2\n",
    "    temp3 = 0.06*trace_square\n",
    "    return det-temp3"
   ]
  },
  {
   "cell_type": "code",
   "execution_count": 10,
   "metadata": {},
   "outputs": [
    {
     "data": {
      "text/plain": [
       "True"
      ]
     },
     "execution_count": 10,
     "metadata": {},
     "output_type": "execute_result"
    }
   ],
   "source": [
    "corner_image = cv2.imread(\"corner_image.png\",0)\n",
    "corner_image = np.double(corner_image)\n",
    "R_value = find_R_value(corner_image)\n",
    "\n",
    "R_shape = R_value.shape\n",
    "Corner_image = np.zeros(R_shape)\n",
    "for i in range(R_shape[0]):\n",
    "    for j in range(R_shape[1]):\n",
    "        if R_value[i,j]>100:\n",
    "            Corner_image[i,j]= 255\n",
    "        else:\n",
    "            Corner_image[i,j] = 0\n",
    "            \n",
    "cv2.imwrite(\"corner_image_new.png\",Corner_image)"
   ]
  },
  {
   "cell_type": "code",
   "execution_count": 12,
   "metadata": {},
   "outputs": [
    {
     "data": {
      "text/plain": [
       "True"
      ]
     },
     "execution_count": 12,
     "metadata": {},
     "output_type": "execute_result"
    }
   ],
   "source": [
    "corner_image = cv2.imread(\"lena.jpeg\",0)\n",
    "corner_image = np.double(corner_image)\n",
    "R_value = find_R_value(corner_image)\n",
    "\n",
    "R_shape = R_value.shape\n",
    "Corner_image = np.zeros(R_shape)\n",
    "for i in range(R_shape[0]):\n",
    "    for j in range(R_shape[1]):\n",
    "        if R_value[i,j]>100:\n",
    "            Corner_image[i,j]= 255\n",
    "        else:\n",
    "            Corner_image[i,j] = 0\n",
    "            \n",
    "cv2.imwrite(\"lena_corner_image.jpeg\",Corner_image)"
   ]
  }
 ],
 "metadata": {
  "kernelspec": {
   "display_name": "Python 3",
   "language": "python",
   "name": "python3"
  },
  "language_info": {
   "codemirror_mode": {
    "name": "ipython",
    "version": 3
   },
   "file_extension": ".py",
   "mimetype": "text/x-python",
   "name": "python",
   "nbconvert_exporter": "python",
   "pygments_lexer": "ipython3",
   "version": "3.8.16"
  }
 },
 "nbformat": 4,
 "nbformat_minor": 2
}
