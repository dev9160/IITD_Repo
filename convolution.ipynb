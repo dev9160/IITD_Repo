{
 "cells": [
  {
   "cell_type": "code",
   "execution_count": 1,
   "metadata": {},
   "outputs": [],
   "source": [
    "import cv2\n",
    "import numpy as np"
   ]
  },
  {
   "cell_type": "code",
   "execution_count": 8,
   "metadata": {},
   "outputs": [
    {
     "data": {
      "text/plain": [
       "True"
      ]
     },
     "execution_count": 8,
     "metadata": {},
     "output_type": "execute_result"
    }
   ],
   "source": [
    "###Bluring the Image\n",
    "\n",
    "img = cv2.imread(\"lena.jpeg\",0)\n",
    "s= img.shape\n",
    "#kernel = [[1,1,1],[1,1,1],[1,1,1]]\n",
    "#kernel = np.array(kernel)\n",
    "#kernel = kernel/9\n",
    "\n",
    "#kernel = np.ones((11,11))\n",
    "#kernel = kernel/np.sum(kernel)\n",
    "#kernel = np.array([[1,0,-1],[2,0,-2],[1,0,-1]]) ## Soble X\n",
    "kernel = np.array([[1,2,1],[0,0,0],[-1,-2,-1]])\n",
    "kernel_shape = kernel.shape\n",
    "\n",
    "new_image = np.zeros((s[0]-kernel_shape[0]+1, s[1]-kernel_shape[1]+1))\n",
    "\n",
    "for i in range(s[0]-kernel_shape[0]+1):\n",
    "    for j in range(s[1]-kernel_shape[1]+1):\n",
    "        part_image = img[i:i+kernel_shape[0], j:j+kernel_shape[1]]\n",
    "        output = part_image*kernel\n",
    "        new_image[i,j] = np.sum(output)\n",
    "\n",
    "#cv2.imwrite(\"lena_blur_image.jpeg\", new_image)\n",
    "cv2.imwrite(\"lena_edge2_image.jpeg\", new_image)"
   ]
  },
  {
   "cell_type": "code",
   "execution_count": 10,
   "metadata": {},
   "outputs": [
    {
     "data": {
      "text/plain": [
       "True"
      ]
     },
     "execution_count": 10,
     "metadata": {},
     "output_type": "execute_result"
    }
   ],
   "source": [
    "##### Gradiant of an Image \n",
    "\n",
    "I = cv2.imread(\"lena.jpeg\",0)\n",
    "s= img.shape\n",
    "\n",
    "kernel = np.array([[1,2,1],[0,0,0],[-1,-2,-1]])\n",
    "kernel = kernel/8\n",
    "kernel_shape = kernel.shape\n",
    "Ix = np.zeros((s[0]-kernel_shape[0]+1,s[1]-kernel_shape[1]+1))\n",
    "\n",
    "for i in range(s[0]-kernel_shape[0]+1):\n",
    "    for j in range(s[1]-kernel_shape[1]+1):\n",
    "        part_image = I[i:i+kernel_shape[0],j:j+kernel_shape[1]]\n",
    "        output = part_image*kernel\n",
    "        Ix[i,j] = np.sum(output)\n",
    "        \n",
    "        \n",
    "kernel = np.array([[1,0,-1],[2,0,-2],[1,0,-1]])\n",
    "kernel = kernel/8\n",
    "kernel_shape = kernel.shape\n",
    "Iy = np.zeros((s[0]-kernel_shape[0]+1,s[1]-kernel_shape[1]+1))\n",
    "\n",
    "for i in range(s[0]-kernel_shape[0]+1):\n",
    "    for j in range(s[1]-kernel_shape[1]+1):\n",
    "        part_image = I[i:i+kernel_shape[0],j:j+kernel_shape[1]]\n",
    "        output = part_image*kernel\n",
    "        Iy[i,j] = np.sum(output)\n",
    "\n",
    "\n",
    "Ix = np.double(Ix)\n",
    "Iy = np.double(Iy)\n",
    "Ans = np.sqrt(Ix**2+Iy**2)\n",
    "\n",
    "Ans_n = (Ans-np.min(Ans))/(np.max(Ans)-np.min(Ans))\n",
    "Ans_n = Ans_n*255\n",
    "Ans_n = np.uint8(Ans_n)        \n",
    "cv2.imwrite(\"lena_gradient.png\",Ans_n)"
   ]
  },
  {
   "cell_type": "code",
   "execution_count": 12,
   "metadata": {},
   "outputs": [
    {
     "data": {
      "text/plain": [
       "True"
      ]
     },
     "execution_count": 12,
     "metadata": {},
     "output_type": "execute_result"
    }
   ],
   "source": [
    "### Image Sharpening\n",
    "\n",
    "img = cv2.imread(\"lena.jpeg\",0)\n",
    "s= img.shape\n",
    "\n",
    "kernel = np.array([[0,-1,0],[-1,5,-1],[0,-1,0]])\n",
    "kernel_shape = kernel.shape\n",
    "\n",
    "new_image = np.zeros((s[0]-kernel_shape[0]+1, s[1]-kernel_shape[1]+1))\n",
    "\n",
    "for i in range(s[0]-kernel_shape[0]+1):\n",
    "    for j in range(s[1]-kernel_shape[1]+1):\n",
    "        part_image = img[i:i+kernel_shape[0], j:j+kernel_shape[1]]\n",
    "        output = part_image*kernel\n",
    "        new_image[i,j] = np.sum(output)\n",
    "\n",
    "\n",
    "cv2.imwrite(\"lena_sharpen.jpeg\", new_image)\n"
   ]
  }
 ],
 "metadata": {
  "kernelspec": {
   "display_name": "Python 3",
   "language": "python",
   "name": "python3"
  },
  "language_info": {
   "codemirror_mode": {
    "name": "ipython",
    "version": 3
   },
   "file_extension": ".py",
   "mimetype": "text/x-python",
   "name": "python",
   "nbconvert_exporter": "python",
   "pygments_lexer": "ipython3",
   "version": "3.8.16"
  }
 },
 "nbformat": 4,
 "nbformat_minor": 2
}
