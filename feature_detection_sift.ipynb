{
 "cells": [
  {
   "cell_type": "code",
   "execution_count": 1,
   "metadata": {},
   "outputs": [],
   "source": [
    "import cv2\n",
    "import numpy as np"
   ]
  },
  {
   "cell_type": "code",
   "execution_count": 2,
   "metadata": {},
   "outputs": [],
   "source": [
    "def sift_feature_matching(img1_path, img2_path):\n",
    "    # Load the images\n",
    "    img1 = cv2.imread(img1_path, cv2.IMREAD_GRAYSCALE)\n",
    "    img2 = cv2.imread(img2_path, cv2.IMREAD_GRAYSCALE)\n",
    "    \n",
    "    # Initialize the SIFT detector\n",
    "    sift = cv2.SIFT_create()\n",
    "    \n",
    "    # Detect SIFT features and compute descriptors for both images\n",
    "    kp1, des1 = sift.detectAndCompute(img1, None)\n",
    "    kp2, des2 = sift.detectAndCompute(img2, None)\n",
    "    \n",
    "    # Initialize the Brute Force matcher\n",
    "    bf = cv2.BFMatcher(cv2.NORM_L2, crossCheck=True)\n",
    "    \n",
    "    # Match descriptors\n",
    "    matches = bf.match(des1, des2)\n",
    "    \n",
    "    # Sort matches by distance (the lower the distance, the better the match)\n",
    "    matches = sorted(matches, key=lambda x: x.distance)\n",
    "    \n",
    "    # Draw top matches\n",
    "    #img_matches = cv2.drawMatches(img1, kp1, img2, kp2, matches[:10], None, flags=cv2.DrawMatchesFlags_NOT_DRAW_SINGLE_POINTS)\n",
    "    \n",
    "    # Calculate similarity score based on the number of good matches\n",
    "    good_matches = [m for m in matches if m.distance < 200]\n",
    "    similarity_score = len(good_matches) / len(matches)\n",
    "    good_match = [m for m in matches if m.distance < 200]\n",
    "    \n",
    "    return similarity_score"
   ]
  },
  {
   "cell_type": "code",
   "execution_count": 3,
   "metadata": {},
   "outputs": [
    {
     "name": "stdout",
     "output_type": "stream",
     "text": [
      "Similarity Score : 1.0\n"
     ]
    }
   ],
   "source": [
    "img1_path = \"lena.jpeg\"\n",
    "img2_path = \"lena.jpeg\"\n",
    "similarity_score = sift_feature_matching(img1_path, img2_path)\n",
    "\n",
    "print(f\"Similarity Score : {similarity_score}\")"
   ]
  }
 ],
 "metadata": {
  "kernelspec": {
   "display_name": "Python 3",
   "language": "python",
   "name": "python3"
  },
  "language_info": {
   "codemirror_mode": {
    "name": "ipython",
    "version": 3
   },
   "file_extension": ".py",
   "mimetype": "text/x-python",
   "name": "python",
   "nbconvert_exporter": "python",
   "pygments_lexer": "ipython3",
   "version": "3.8.16"
  }
 },
 "nbformat": 4,
 "nbformat_minor": 2
}
